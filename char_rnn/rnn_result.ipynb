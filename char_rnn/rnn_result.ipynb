{
 "cells": [
  {
   "cell_type": "code",
   "execution_count": 1,
   "metadata": {},
   "outputs": [],
   "source": [
    "import random\n",
    "from rnn_example import RNNModel"
   ]
  },
  {
   "cell_type": "code",
   "execution_count": 2,
   "metadata": {},
   "outputs": [],
   "source": [
    "hidden_size = 128\n",
    "    \n",
    "with open('data/poetry.txt', 'r') as f:\n",
    "    texts = f.readlines()\n",
    "    \n",
    "random.seed(0)\n",
    "random.shuffle(texts)\n",
    "texts = texts[: 20000]\n",
    "    \n",
    "total_words = set()\n",
    "for text in texts:\n",
    "    total_words |= set(text)\n",
    "    \n",
    "total_words = list(total_words)\n",
    "total_words.append('#')\n",
    "vocab_size = len(total_words)\n",
    "words_idx = dict(zip(total_words, range(len(total_words))))\n",
    "idx_words = dict(zip(range(len(total_words)), total_words))"
   ]
  },
  {
   "cell_type": "code",
   "execution_count": 3,
   "metadata": {},
   "outputs": [
    {
     "name": "stderr",
     "output_type": "stream",
     "text": [
      "/home/ubuntu/workspaces/py3/lib/python3.6/site-packages/tensorflow/python/ops/gradients_impl.py:112: UserWarning: Converting sparse IndexedSlices to a dense Tensor of unknown shape. This may consume a large amount of memory.\n",
      "  \"Converting sparse IndexedSlices to a dense Tensor of unknown shape. \"\n"
     ]
    },
    {
     "name": "stdout",
     "output_type": "stream",
     "text": [
      "## Loading model checkpoint ./rnn_example/model/model-3577590 ...\n",
      "INFO:tensorflow:Restoring parameters from ./rnn_example/model/model-3577590\n"
     ]
    }
   ],
   "source": [
    "rnn = RNNModel(vocab_size, hidden_size)"
   ]
  },
  {
   "cell_type": "code",
   "execution_count": 4,
   "metadata": {},
   "outputs": [
    {
     "name": "stdout",
     "output_type": "stream",
     "text": [
      "绝到束想假#\n",
      "尧烽暮偃#\n",
      "累籍高岸灰暮八#\n",
      "吏姓教已闺#\n",
      "取境絮馀异#\n",
      "然梯消韵贫#\n",
      "陆八舒新涨#\n",
      "局萝丽聊忆#\n",
      "丘卒消感初#\n",
      "偷贫岫虽虽#\n"
     ]
    }
   ],
   "source": [
    "for _ in range(10):\n",
    "    print(rnn.sample(10, [random.randint(0, vocab_size - 1)], idx_words))"
   ]
  },
  {
   "cell_type": "code",
   "execution_count": null,
   "metadata": {},
   "outputs": [],
   "source": []
  }
 ],
 "metadata": {
  "kernelspec": {
   "display_name": "Python 3",
   "language": "python",
   "name": "python3"
  },
  "language_info": {
   "codemirror_mode": {
    "name": "ipython",
    "version": 3
   },
   "file_extension": ".py",
   "mimetype": "text/x-python",
   "name": "python",
   "nbconvert_exporter": "python",
   "pygments_lexer": "ipython3",
   "version": "3.6.5"
  }
 },
 "nbformat": 4,
 "nbformat_minor": 2
}
