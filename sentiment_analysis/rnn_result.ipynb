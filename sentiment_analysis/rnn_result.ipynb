{
 "cells": [
  {
   "cell_type": "code",
   "execution_count": 1,
   "metadata": {},
   "outputs": [],
   "source": [
    "import pandas as pd\n",
    "import numpy as np\n",
    "from collections import defaultdict\n",
    "from rnn_example import RNNModel, generator"
   ]
  },
  {
   "cell_type": "code",
   "execution_count": 2,
   "metadata": {},
   "outputs": [],
   "source": [
    "total_datas = pd.read_csv(\"data/movies.csv\", header=0)\n",
    "    \n",
    "words_list = total_datas['review'].apply(lambda x: x.split())\n",
    "words_freq = defaultdict(int)\n",
    "for i in range(len(total_datas)):\n",
    "    for word in words_list[i]:\n",
    "        words_freq[word] += 1\n",
    "    \n",
    "datas = []\n",
    "for i in range(len(total_datas)):\n",
    "    data = []\n",
    "    for word in words_list[i]:\n",
    "        if words_freq[word] >= 30:\n",
    "            data.append(word)\n",
    "    datas.append(data)\n",
    "total_datas['review'] = datas\n",
    "    \n",
    "total_words = set()\n",
    "for i in range(len(datas)):\n",
    "    total_words |= set(datas[i])\n",
    "vocab_size = len(total_words)\n",
    "words_idx = dict(zip(total_words, range(len(total_words))))\n",
    "idx_words = dict(zip(range(len(total_words)), total_words))\n",
    "    \n",
    "positive_indexs = np.where(total_datas['target'].values == 1)[0]\n",
    "negative_indexs = np.where(total_datas['target'].values == 0)[0]\n",
    "    \n",
    "train_ratio = 0.7\n",
    "np.random.seed(0)\n",
    "selected = np.random.choice(positive_indexs,\n",
    "                            size=int(train_ratio * len(total_datas) / 2),\n",
    "                            replace=False).tolist() + \\\n",
    "           np.random.choice(negative_indexs,\n",
    "                            size=int(train_ratio * len(total_datas) / 2),\n",
    "                            replace=False).tolist()\n",
    "selected.sort()\n",
    "indexs = np.zeros(len(total_datas), dtype=np.bool)\n",
    "indexs[selected] = True\n",
    "train_data = total_datas[indexs]\n",
    "test_data = total_datas[~indexs]\n",
    "    \n",
    "dataset = train_data['review'].tolist()\n",
    "data_lengths = np.array(list(map(len, dataset)))\n",
    "    \n",
    "test_dataset = test_data['review'].tolist()\n",
    "test_data_lengths = np.array(list(map(len, test_dataset)))\n",
    "batch_test_datas = generator(\n",
    "    test_dataset, test_data['target'].values, test_data_lengths, 64, words_idx\n",
    "    )\n",
    "    \n",
    "hidden_size = 128"
   ]
  },
  {
   "cell_type": "code",
   "execution_count": 3,
   "metadata": {},
   "outputs": [
    {
     "name": "stderr",
     "output_type": "stream",
     "text": [
      "/home/ubuntu/workspaces/py3/lib/python3.6/site-packages/tensorflow/python/ops/gradients_impl.py:112: UserWarning: Converting sparse IndexedSlices to a dense Tensor of unknown shape. This may consume a large amount of memory.\n",
      "  \"Converting sparse IndexedSlices to a dense Tensor of unknown shape. \"\n"
     ]
    },
    {
     "name": "stdout",
     "output_type": "stream",
     "text": [
      "## Loading model checkpoint ./rnn_example/model/model-24660 ...\n",
      "INFO:tensorflow:Restoring parameters from ./rnn_example/model/model-24660\n"
     ]
    }
   ],
   "source": [
    "rnn = RNNModel(2, vocab_size, hidden_size)"
   ]
  },
  {
   "cell_type": "code",
   "execution_count": 4,
   "metadata": {},
   "outputs": [],
   "source": [
    "batch_data, batch_target, batch_length = batch_test_datas[0]\n",
    "preds = rnn.predict(batch_data, batch_length)"
   ]
  },
  {
   "cell_type": "code",
   "execution_count": 5,
   "metadata": {},
   "outputs": [
    {
     "name": "stdout",
     "output_type": "stream",
     "text": [
      "review: even standards movie making setup cardboard lover presents dated extreme one half pair husband wife ex husband ex wife get back threat marriage another divorce eventual separation means jealousy schemes done much better classics girl friday philadelphia story movies features women strong screen presence played independent feminist characters movies women estranged divorced witty first husbands set marry men exact opposite would soon husbands passion plot cardboard lover switches gender norma cary grant role time ward ex boyfriend george sanders means hiring robert taylor pose problem much old playing role suited actress mid late twenties sanders involved piece furniture man would love fianc e seeing strange man come bathroom happens would knock lights cause huge scene robert taylor plays part trying channel cary grant half time speech overall essence worst part actress used parts gave sense intellectual dramatic presence playing seems put complete acting still part style acting appropriate ten years earlier makes look like extremely mannered performer wrenching joke situation like water fairly dry fires tell theory gives irving maker career roles passed roles charlotte mrs mega hits voyager mrs mystery accounts also state time burnt acting lost interest whole thing altogether secret anyone experienced sort thing essentially lost focus wait retirement end contract near leave soon possible could case seems lost seems tired seems ill ease going instead living part film would make would responsible discovering janet leigh would come screen star late\n",
      " label: 0, pred: 1\n",
      "review: wow bad movie read comments movie plot character development possibly kind script difficult tell based actual end result editing movie really non existent tends jump scene scene without connection anything assist viewer actually happening simply low budget zombie flick thought bad acting bad dialogue bad everything thing saves movie gore factor think must spent whatever money try justify making unless like dedicated finding watching zombie flicks find watch period\n",
      " label: 0, pred: 0\n",
      "review: former private eye turned security guard latest job immediately offered chance return previous profession assignment tail mysterious french woman newly arrived california apparently wanted suit tie unsuccessful attempt update film noir genre without enough wit involving plot dynamics screenplay director co paul later claimed picture edited without involvement give impression high regard films chandler nostalgia appropriately also bitter somewhat indifferent handling curiously low warren well cast private dick movie snap nice see leslie caron gloria cast though neither much caron hot cold running character throughout vivid cinematography alan nice location shooting fails come kind\n",
      " label: 0, pred: 0\n",
      "review: amazed amount praise movie rather disappointment especially combination historical facts fantasy main character internal turmoil work vonnegut book five even george roy hill adaptation screen credibility often many questions left open miss central points fail spot lines supposedly connect boy called campbell jr grows new york home father many technical trade papers one book photographs dead bodies boy book dad like tell family moves away new york berlin bang boy married man berlin theater playwright kind plays write language successful wife actress looks glamorous parents move back usa invite son grown germany feels german american successful wife likes life likes nazis plain lazy like change ask possibly man care interested politics kind states deeply love wife speaks republic two meaning wife little evidence proving love wife movie much seems republic one request american agent campbell jr agrees broadcast anti nazi hate propaganda american device messages american authorities read lines crucial meeting agent berlin park short anti climactic decision play along comes pretty easily explanation rise seems apparently fast campbell jr presenting air last free american scheme secret messages fairly realistic exciting although one wonders happened campbell jr really honestly etc must messages terribly anyway nazis lose wife dies german troops never heard really happened german front lines ww ii campbell jr says goes russian front go captured american soldier come dragged sight seeing tour released help crucial agent somewhere city new york story really starts bang like short story paul campbell jr lives new york loss wife nobody really cares yes somehow neighbors offer sort distraction survivors painter american discover want even find presumed dead wife wife anyway end campbell jr calls israeli give big war criminal treatment placing cell writes life story task finished hangs without getting least bit see must issue guilt loss impression main character person times pretty indifferent everything hardly capable love anyone found difficult sympathize loss amazingly many reviewers focus status potential war hero put reputation stake playing last free american assume according took lot courage matter fact however movie suggests accepting assignment campbell created win win situation would politically safe side matter war danger never comes first part story one might argue whole story fantasy nobody bother historical accuracy logical development story explains everything even fails make point primarily suspect love affair republic two falls completely flat pity especially consider wife played lee talented versatile actress much little screen time forced use ridiculous german accent another somehow neglected aspect different confession broadcast hidden messages guess largely maybe give book chance\n",
      " label: 0, pred: 0\n",
      "review: believe waste time watching garbage leonard gave rating tv movies usually reliable quality entertainment acting ok whoever wrote forever denied access medium communication plot ludicrous motivations bad guys totally absent various family interactions silly shallow example dad violent reaction bad turns admirable person ignore idiots philosophy pretty good message able nuclear family good alternate living bad oh bad people happen good people\n",
      " label: 0, pred: 0\n"
     ]
    }
   ],
   "source": [
    "for data, label, length, pred in zip(batch_data[:5], batch_target[:5], batch_length[:5], preds[:5]):\n",
    "    review = []\n",
    "    for i in range(length):\n",
    "        review.append(idx_words[data[i]])\n",
    "    review_str = ' '.join(review)\n",
    "    print(f'review: {review_str}\\n label: {label}, pred: {pred}')"
   ]
  },
  {
   "cell_type": "code",
   "execution_count": null,
   "metadata": {},
   "outputs": [],
   "source": []
  }
 ],
 "metadata": {
  "kernelspec": {
   "display_name": "Python 3",
   "language": "python",
   "name": "python3"
  },
  "language_info": {
   "codemirror_mode": {
    "name": "ipython",
    "version": 3
   },
   "file_extension": ".py",
   "mimetype": "text/x-python",
   "name": "python",
   "nbconvert_exporter": "python",
   "pygments_lexer": "ipython3",
   "version": "3.6.5"
  }
 },
 "nbformat": 4,
 "nbformat_minor": 2
}
